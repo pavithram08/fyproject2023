{
  "cells": [
    {
      "cell_type": "code",
      "source": [
        "pip install keras_preprocessing"
      ],
      "metadata": {
        "colab": {
          "base_uri": "https://localhost:8080/"
        },
        "id": "tNblbWHc8Mea",
        "outputId": "5d088fe3-ba03-4510-f4c4-01348d249299"
      },
      "execution_count": 3,
      "outputs": [
        {
          "output_type": "stream",
          "name": "stdout",
          "text": [
            "Looking in indexes: https://pypi.org/simple, https://us-python.pkg.dev/colab-wheels/public/simple/\n",
            "Requirement already satisfied: keras_preprocessing in /usr/local/lib/python3.9/dist-packages (1.1.2)\n",
            "Requirement already satisfied: six>=1.9.0 in /usr/local/lib/python3.9/dist-packages (from keras_preprocessing) (1.16.0)\n",
            "Requirement already satisfied: numpy>=1.9.1 in /usr/local/lib/python3.9/dist-packages (from keras_preprocessing) (1.22.4)\n"
          ]
        }
      ]
    },
    {
      "cell_type": "code",
      "execution_count": 4,
      "metadata": {
        "id": "zvqowXoJ4K7N"
      },
      "outputs": [],
      "source": [
        "import preprocess_text\n",
        "import tensorflow as tf\n",
        "from tensorflow.keras.preprocessing.sequence import pad_sequences\n",
        "from tensorflow.keras.preprocessing.text import Tokenizer\n",
        "from tensorflow.keras.models import load_model\n",
        "import pickle"
      ]
    },
    {
      "cell_type": "code",
      "execution_count": 5,
      "metadata": {
        "id": "1e5gc9q-4K7R"
      },
      "outputs": [],
      "source": [
        "tf_idf = pickle.load(open('/content/tfidf_tokenizer.pkl','rb'))\n",
        "rf_model = pickle.load(open('/content/random_forest.pkl','rb'))"
      ]
    },
    {
      "cell_type": "code",
      "execution_count": 9,
      "metadata": {
        "scrolled": false,
        "id": "yG4nyL-k4K7T"
      },
      "outputs": [],
      "source": [
        "text = [' Unknown perpetrators detonated a bomb', 'Terrorist placed an explosive device in the vicinity',\n",
        "        'My favorite place is bed', 'This is a good movie']"
      ]
    },
    {
      "cell_type": "markdown",
      "source": [],
      "metadata": {
        "id": "5FdR-LZZcdj9"
      }
    },
    {
      "cell_type": "code",
      "execution_count": 12,
      "metadata": {
        "id": "rUI4jHF44K7S"
      },
      "outputs": [],
      "source": [
        "tokenizer = pickle.load(open('/content/tfidf_tokenizer.pkl','rb'))\n",
        "model = load_model('/content/lstm.h5',compile=False)"
      ]
    },
    {
      "cell_type": "code",
      "execution_count": 13,
      "metadata": {
        "id": "0H3SSW_x4K7S"
      },
      "outputs": [],
      "source": [
        "def predict_ml(text):\n",
        "    new_text = preprocess_text.clean_text(text)\n",
        "    vec = tf_idf.transform([new_text])\n",
        "    res = rf_model.predict(vec)\n",
        "    return res "
      ]
    },
    {
      "cell_type": "code",
      "execution_count": 14,
      "metadata": {
        "id": "254P2UFF4K7T"
      },
      "outputs": [],
      "source": [
        "def predict_dl(text):\n",
        "    new_text = preprocess_text.clean_text(text)\n",
        "    sequence = tokenizer.texts_to_sequences([new_text])\n",
        "    padded_sequence = pad_sequences(sequence,padding='post')\n",
        "    res = model.predict(padded_sequence)\n",
        "    return res[0]"
      ]
    },
    {
      "cell_type": "code",
      "source": [
        "import nltk\n",
        "nltk.download('wordnet')"
      ],
      "metadata": {
        "colab": {
          "base_uri": "https://localhost:8080/"
        },
        "id": "gBayGk856BI2",
        "outputId": "8e6385af-33a3-4b11-a3f1-5ce6c61c5426"
      },
      "execution_count": 15,
      "outputs": [
        {
          "output_type": "stream",
          "name": "stderr",
          "text": [
            "[nltk_data] Downloading package wordnet to /root/nltk_data...\n"
          ]
        },
        {
          "output_type": "execute_result",
          "data": {
            "text/plain": [
              "True"
            ]
          },
          "metadata": {},
          "execution_count": 15
        }
      ]
    },
    {
      "cell_type": "code",
      "source": [
        "from keras.preprocessing import sequence"
      ],
      "metadata": {
        "id": "mjNnSz4M8jbE"
      },
      "execution_count": 16,
      "outputs": []
    },
    {
      "cell_type": "code",
      "source": [
        "import pickle\n",
        "from sklearn.feature_extraction.text import TfidfVectorizer"
      ],
      "metadata": {
        "id": "EIBXrs0o6_fS"
      },
      "execution_count": 17,
      "outputs": []
    },
    {
      "cell_type": "code",
      "source": [
        "tokenizer = Tokenizer(num_words=1000)"
      ],
      "metadata": {
        "id": "M-IC7roOZ_xh"
      },
      "execution_count": 20,
      "outputs": []
    },
    {
      "cell_type": "code",
      "source": [
        "tokenizer.fit_on_texts(text)"
      ],
      "metadata": {
        "id": "uUDXmLDbaCsb"
      },
      "execution_count": 21,
      "outputs": []
    },
    {
      "cell_type": "code",
      "source": [
        "sequences = tokenizer.texts_to_sequences(text)"
      ],
      "metadata": {
        "id": "LEuW-Bc_aMtW"
      },
      "execution_count": 22,
      "outputs": []
    },
    {
      "cell_type": "code",
      "source": [
        "for t in text:\n",
        "  res = predict_dl(t)\n",
        "  res = res > 0.5\n",
        "  print(\"{} :{}\".format(t, res[0]))\n",
        "\n",
        "print(\"\\n \\n\")\n",
        "\n",
        "\n",
        "for t in text:\n",
        "  res = predict_ml(t)\n",
        "    # res = res > 0.5\n",
        "  print(\"{} :{}\".format(t, res[0]))"
      ],
      "metadata": {
        "colab": {
          "base_uri": "https://localhost:8080/"
        },
        "id": "0qR6m_o03ZP2",
        "outputId": "a754d715-93df-4a72-906a-2db6a6ee5d20"
      },
      "execution_count": 23,
      "outputs": [
        {
          "output_type": "stream",
          "name": "stdout",
          "text": [
            "1/1 [==============================] - 2s 2s/step\n",
            " Unknown perpetrators detonated a bomb :True\n",
            "1/1 [==============================] - 2s 2s/step\n",
            "Terrorist placed an explosive device in the vicinity :True\n",
            "1/1 [==============================] - 0s 27ms/step\n",
            "My favorite place is bed :True\n",
            "1/1 [==============================] - 0s 24ms/step\n",
            "This is a good movie :True\n",
            "\n",
            " \n",
            "\n",
            " Unknown perpetrators detonated a bomb :1\n",
            "Terrorist placed an explosive device in the vicinity :1\n",
            "My favorite place is bed :1\n",
            "This is a good movie :0\n"
          ]
        }
      ]
    }
  ],
  "metadata": {
    "kernelspec": {
      "display_name": "Python 3",
      "language": "python",
      "name": "python3"
    },
    "language_info": {
      "codemirror_mode": {
        "name": "ipython",
        "version": 3
      },
      "file_extension": ".py",
      "mimetype": "text/x-python",
      "name": "python",
      "nbconvert_exporter": "python",
      "pygments_lexer": "ipython3",
      "version": "3.7.4"
    },
    "colab": {
      "provenance": []
    }
  },
  "nbformat": 4,
  "nbformat_minor": 0
}