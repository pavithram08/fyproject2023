{
  "nbformat": 4,
  "nbformat_minor": 0,
  "metadata": {
    "colab": {
      "provenance": []
    },
    "kernelspec": {
      "name": "python3",
      "display_name": "Python 3"
    },
    "language_info": {
      "name": "python"
    }
  },
  "cells": [
    {
      "cell_type": "code",
      "execution_count": null,
      "metadata": {
        "id": "EgfSyrbUkHy6"
      },
      "outputs": [],
      "source": [
        "import pandas as pd\n",
        "\n",
        "reddit_df = pd.read_csv('/content/cleanedRedditTerrorism.csv')\n",
        "twitter_df = pd.read_csv('/content/cleanedTwitterTerrorism.csv')\n",
        "genral_df = pd.read_csv('/content/cleanedRedditNonTerroism.csv')\n",
        "\n",
        "terrorism_text = []\n",
        "terrorism_label = []\n",
        "for text in reddit_df['cleaned']:\n",
        "    terrorism_text.append(text)\n",
        "    terrorism_label.append(1)\n",
        "\n",
        "for text in twitter_df['cleaned']:\n",
        "    terrorism_text.append('text')\n",
        "    terrorism_label.append(1)\n",
        "\n",
        "non_terrorism_text = []\n",
        "non_terrorism_label = []\n",
        "for text in genral_df['cleaned']:\n",
        "    non_terrorism_text.append(text)\n",
        "    non_terrorism_label.append(0)\n",
        "\n",
        "terrorism_df = pd.DataFrame(data={\"text\": terrorism_text, \"label\": terrorism_label})\n",
        "non_terrorism_df = pd.DataFrame(\n",
        "    data={\"text\": non_terrorism_text, \"label\": non_terrorism_label})\n",
        "\n",
        "df = pd.concat([terrorism_df, terrorism_df], axis=0)\n",
        "df.to_csv('./mergedData.csv', index=False)\n"
      ]
    }
  ]
}